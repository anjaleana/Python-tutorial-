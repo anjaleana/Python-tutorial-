{
 "cells": [
  {
   "cell_type": "markdown",
   "metadata": {},
   "source": [
    "## Python String Tutorial4"
   ]
  },
  {
   "cell_type": "markdown",
   "metadata": {},
   "source": [
    "## isalnum() : "
   ]
  },
  {
   "cell_type": "markdown",
   "metadata": {},
   "source": [
    "#### It contains the A-Za-z and 0-9 digit as alphanumeric"
   ]
  },
  {
   "cell_type": "code",
   "execution_count": 3,
   "metadata": {},
   "outputs": [
    {
     "name": "stdout",
     "output_type": "stream",
     "text": [
      "Enter the text value:#@78\n",
      "False\n"
     ]
    }
   ],
   "source": [
    "#let's take input value\n",
    "text = input(\"Enter the text value:\")\n",
    "\n",
    "print(text.isalnum())\n"
   ]
  },
  {
   "cell_type": "markdown",
   "metadata": {},
   "source": [
    "## isdigit()"
   ]
  },
  {
   "cell_type": "markdown",
   "metadata": {},
   "source": [
    "#### It returns True if all the characters are digits, otherwise False."
   ]
  },
  {
   "cell_type": "code",
   "execution_count": 5,
   "metadata": {},
   "outputs": [
    {
     "name": "stdout",
     "output_type": "stream",
     "text": [
      "Enter the text value:3456\n",
      "True\n"
     ]
    }
   ],
   "source": [
    "#let's take input value\n",
    "text = input(\"Enter the text value:\")\n",
    "\n",
    "print(text.isdigit())"
   ]
  },
  {
   "cell_type": "markdown",
   "metadata": {},
   "source": [
    "##  islower()"
   ]
  },
  {
   "cell_type": "markdown",
   "metadata": {},
   "source": [
    "#### It returns True if all the characters are lower, otherwise False."
   ]
  },
  {
   "cell_type": "code",
   "execution_count": 7,
   "metadata": {},
   "outputs": [
    {
     "name": "stdout",
     "output_type": "stream",
     "text": [
      "Enter the text value:Anjali\n",
      "False\n"
     ]
    }
   ],
   "source": [
    "#let's take input\n",
    "text = input(\"Enter the text value:\")\n",
    "\n",
    "print(text.islower())\n"
   ]
  },
  {
   "cell_type": "markdown",
   "metadata": {},
   "source": [
    "## isupper()"
   ]
  },
  {
   "cell_type": "markdown",
   "metadata": {},
   "source": [
    "#### It returns True if all the characters are uppercase, otherwise False."
   ]
  },
  {
   "cell_type": "code",
   "execution_count": 10,
   "metadata": {},
   "outputs": [
    {
     "name": "stdout",
     "output_type": "stream",
     "text": [
      "Enter the text value:agada\n",
      "False\n"
     ]
    }
   ],
   "source": [
    "#let's take input value\n",
    "text = input(\"Enter the text value:\")\n",
    "\n",
    "print(text.isupper())"
   ]
  },
  {
   "cell_type": "markdown",
   "metadata": {},
   "source": [
    "## isspace()"
   ]
  },
  {
   "cell_type": "markdown",
   "metadata": {},
   "source": [
    "#### It returns True if all the characters in string are whitespaces."
   ]
  },
  {
   "cell_type": "code",
   "execution_count": 12,
   "metadata": {},
   "outputs": [
    {
     "name": "stdout",
     "output_type": "stream",
     "text": [
      "Enter the text value: rwerw \n",
      "False\n"
     ]
    }
   ],
   "source": [
    "#let's take input value\n",
    "text = input(\"Enter the text value:\")\n",
    "\n",
    "print(text.isspace())"
   ]
  },
  {
   "cell_type": "markdown",
   "metadata": {},
   "source": [
    "## istitle()"
   ]
  },
  {
   "cell_type": "markdown",
   "metadata": {},
   "source": [
    "#### It returns True if all words in a text start with a upper case letter, and the rest of the letter are lower case letters, otherwise False."
   ]
  },
  {
   "cell_type": "code",
   "execution_count": 14,
   "metadata": {},
   "outputs": [
    {
     "name": "stdout",
     "output_type": "stream",
     "text": [
      "Enter the text value:sgd sfds \n",
      "False\n"
     ]
    }
   ],
   "source": [
    "#let's take input value\n",
    "text = input(\"Enter the text value:\")\n",
    "print(text.istitle())"
   ]
  },
  {
   "cell_type": "code",
   "execution_count": null,
   "metadata": {},
   "outputs": [],
   "source": []
  },
  {
   "cell_type": "code",
   "execution_count": null,
   "metadata": {},
   "outputs": [],
   "source": []
  }
 ],
 "metadata": {
  "kernelspec": {
   "display_name": "Python 3",
   "language": "python",
   "name": "python3"
  },
  "language_info": {
   "codemirror_mode": {
    "name": "ipython",
    "version": 3
   },
   "file_extension": ".py",
   "mimetype": "text/x-python",
   "name": "python",
   "nbconvert_exporter": "python",
   "pygments_lexer": "ipython3",
   "version": "3.6.5"
  }
 },
 "nbformat": 4,
 "nbformat_minor": 4
}
